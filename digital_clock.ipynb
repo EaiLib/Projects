{
 "cells": [
  {
   "cell_type": "code",
   "execution_count": 15,
   "metadata": {},
   "outputs": [],
   "source": [
    "from time import strftime\n",
    "from tkinter import Label, Tk\n",
    "\n",
    "window = Tk()\n",
    "window.title(\"\")\n",
    "window.geometry(\"400x250\")\n",
    "window.configure(bg = \"black\", border=4)\n",
    "window.resizable(False, False)\n",
    "\n",
    "clock_label = Label(window, bg=\"black\", fg=\"red\", font = (\"Times\", 30, 'bold'), relief='flat')\n",
    "clock_label.place(x = 20, y = 20)\n",
    "\n",
    "def updating_label():\n",
    "    current_time = strftime('%H: %M: %S')\n",
    "    clock_label.configure(text = current_time)\n",
    "    clock_label.after(80, updating_label)\n",
    "\n",
    "updating_label()\n",
    "window.mainloop()\n",
    " \n"
   ]
  },
  {
   "cell_type": "code",
   "execution_count": null,
   "metadata": {},
   "outputs": [],
   "source": [
    "from time import strftime\n",
    "from tkinter import Label, Tk\n",
    "\n",
    "class ClockApp:\n",
    "    def __init__(self, root: Tk) -> None:\n",
    "        \"\"\"\n",
    "        Initializes the ClockApp.\n",
    "\n",
    "        Args:\n",
    "            root (Tk): The Tkinter root window.\n",
    "        \"\"\"\n",
    "        self.root = root\n",
    "        self.root.title(\"\")\n",
    "        self.root.geometry(\"400x250\")\n",
    "        self.root.configure(bg=\"black\", border=4)\n",
    "        self.root.resizable(False, False)\n",
    "\n",
    "        self.clock_label = Label(\n",
    "            self.root, bg=\"black\", fg=\"red\", font=(\"Times\", 30, 'bold'), relief='flat'\n",
    "        )\n",
    "        self.clock_label.place(x=20, y=20)\n",
    "\n",
    "    def update_label(self) -> None:\n",
    "        \"\"\"\n",
    "        Updates the clock label with the current time.\n",
    "        \"\"\"\n",
    "        current_time = strftime('%H: %M: %S')\n",
    "        self.clock_label.configure(text=current_time)\n",
    "        self.clock_label.after(80, self.update_label)\n",
    "\n",
    "    def run(self) -> None:\n",
    "        \"\"\"\n",
    "        Runs the ClockApp, updating the clock label and starting the mainloop.\n",
    "        \"\"\"\n",
    "        self.update_label()\n",
    "        self.root.mainloop()"
   ]
  },
  {
   "cell_type": "code",
   "execution_count": null,
   "metadata": {},
   "outputs": [],
   "source": [
    "from tkinter import Tk\n",
    "from clock_app import ClockApp\n",
    "\n",
    "def main() -> None:\n",
    "    root = Tk()\n",
    "    app = ClockApp(root)\n",
    "    app.run()\n",
    "\n",
    "if __name__ == \"__main__\":\n",
    "    main()"
   ]
  }
 ],
 "metadata": {
  "kernelspec": {
   "display_name": "Python 3",
   "language": "python",
   "name": "python3"
  },
  "language_info": {
   "codemirror_mode": {
    "name": "ipython",
    "version": 3
   },
   "file_extension": ".py",
   "mimetype": "text/x-python",
   "name": "python",
   "nbconvert_exporter": "python",
   "pygments_lexer": "ipython3",
   "version": "3.10.12"
  }
 },
 "nbformat": 4,
 "nbformat_minor": 2
}
