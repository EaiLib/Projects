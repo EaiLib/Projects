{
 "cells": [
  {
   "cell_type": "markdown",
   "metadata": {},
   "source": [
    "# PyPDF2 does not handle certain advanced PDF features or encrypted files well. It is better suited for basic PDF operations. For more advanced tasks, see the pdfrw library.\n",
    "# PyPDF2 is a great starting point for doing basic PDF operations with Python, such as extracting text, combining files, and adding content to PDF documents.\n",
    "# The advantage of PyPDF2 is to be easy to use: PyPDF2 provides a straightforward API for common PDF operations.\n",
    "# Another library designed for PDF with more power is the ReportLab library that also includes the possibility of designing graphics. Since our example is one page and text, I decided to use the PyPDF2 library, although below I leave an example of how to create a file with ReportLab"
   ]
  },
  {
   "cell_type": "markdown",
   "metadata": {},
   "source": [
    "# I have many errors i this code. I need to improve the code."
   ]
  },
  {
   "cell_type": "code",
   "execution_count": 25,
   "metadata": {},
   "outputs": [
    {
     "name": "stdout",
     "output_type": "stream",
     "text": [
      "PDF 'practice.pdf' created successfully.\n"
     ]
    }
   ],
   "source": [
    "import PyPDF2\n",
    "import os\n",
    "\n",
    "# Define the PDF file name\n",
    "pdf_file = \"practice.pdf\"\n",
    "\n",
    "# Check if the file already exists\n",
    "if not os.path.exists(pdf_file):\n",
    "    # Create a blank PDF page\n",
    "    pdf_writer = PyPDF2.PdfWriter()\n",
    "    new_page = pdf_writer.add_blank_page(width=400, height=600)\n",
    "\n",
    "    # Save the PDF file\n",
    "    with open(pdf_file, \"wb\") as new_pdf_file:\n",
    "        pdf_writer.write(new_pdf_file)\n",
    "\n",
    "    print(f\"PDF '{pdf_file}' created successfully.\")\n",
    "else:\n",
    "    print(f\"PDF '{pdf_file}' already exists. No need to recreate it.\")"
   ]
  },
  {
   "cell_type": "code",
   "execution_count": 28,
   "metadata": {},
   "outputs": [
    {
     "name": "stdout",
     "output_type": "stream",
     "text": [
      "1\n",
      "\n"
     ]
    }
   ],
   "source": [
    "import PyPDF2\n",
    "\n",
    "with open(\"practice.pdf\", \"rb\") as new_pdf_file:\n",
    "    reading_pdf = PyPDF2.PdfReader(new_pdf_file)\n",
    "    print(len(reading_pdf.pages))\n",
    "    pdf_page = reading_pdf.pages[0]  # The index of the first page is zero and so it is incremented successively.\n",
    "    print(pdf_page.extract_text())\n",
    "\n",
    "\n",
    "\n"
   ]
  },
  {
   "cell_type": "code",
   "execution_count": 9,
   "metadata": {},
   "outputs": [
    {
     "name": "stdout",
     "output_type": "stream",
     "text": [
      "Hello, this is a practice PDF created with Python and ReportLab.\n",
      "\n",
      "\n",
      "Merged PDF file deleted.\n"
     ]
    }
   ],
   "source": [
    "import PyPDF2\n",
    "import os\n",
    "import time\n",
    "\n",
    "# Reading PDF\n",
    "with open(\"practice.pdf\", \"rb\") as pdf_file1, open(\"new_document.pdf\", \"rb\") as pdf_file2:\n",
    "    pdf_reader1 = PyPDF2.PdfReader(pdf_file1)\n",
    "    pdf_reader2 = PyPDF2.PdfReader(pdf_file2)\n",
    "    \n",
    "    # Writing PDF\n",
    "    pdf_writer = PyPDF2.PdfWriter()\n",
    "    \n",
    "    # Add pages from the first PDF (practice.pdf)\n",
    "    for page in pdf_reader1.pages:\n",
    "        pdf_writer.add_page(page)\n",
    "    \n",
    "    # Add pages from the second PDF (new_document.pdf)\n",
    "    for page in pdf_reader2.pages:\n",
    "        pdf_writer.add_page(page)\n",
    "    \n",
    "    # Save the merged PDF as \"merged_document.pdf\"\n",
    "    with open(\"merged_document.pdf\", \"wb\") as merged_pdf:\n",
    "        pdf_writer.write(merged_pdf)\n",
    "\n",
    "# Print the content of the merged PDF\n",
    "with open(\"merged_document.pdf\", \"rb\") as merged_pdf_file:\n",
    "    pdf_reader = PyPDF2.PdfReader(merged_pdf_file)\n",
    "    for page in pdf_reader.pages:\n",
    "        print(page.extract_text())\n",
    "\n",
    "# Delay for 30 seconds\n",
    "time.sleep(30)\n",
    "\n",
    "# Delete the merged PDF file after waiting\n",
    "if os.path.exists(\"merged_document.pdf\"):\n",
    "    os.remove(\"merged_document.pdf\")\n",
    "    print(\"Merged PDF file deleted.\")"
   ]
  },
  {
   "cell_type": "code",
   "execution_count": null,
   "metadata": {},
   "outputs": [],
   "source": [
    "#Create PDF file with reportlab library.\n",
    "\n",
    "# from reportlab.lib.pagesizes import letter\n",
    "# from reportlab.pdfgen import canvas\n",
    "# import os\n",
    "\n",
    "# # Define the PDF file name\n",
    "# pdf_file = \"practice.pdf\"\n",
    "\n",
    "# # Check if the file already exists\n",
    "# if not os.path.exists(pdf_file):\n",
    "#     # Create a canvas (PDF document)\n",
    "#     pdf_canvas = canvas.Canvas(pdf_file, pagesize=letter)\n",
    "\n",
    "#     # Add text to the PDF\n",
    "#     text = \"Hello, this is a practice PDF created with Python and ReportLab.\"\n",
    "#     pdf_canvas.drawString(100, 500, text)\n",
    "\n",
    "#     # Save the PDF file\n",
    "#     pdf_canvas.save()\n",
    "\n",
    "#     print(f\"PDF '{pdf_file}' created successfully.\")\n",
    "# else:\n",
    "#     print(f\"PDF '{pdf_file}' already exists. No need to recreate it.\")"
   ]
  },
  {
   "cell_type": "code",
   "execution_count": 29,
   "metadata": {},
   "outputs": [
    {
     "ename": "AttributeError",
     "evalue": "'PageObject' object has no attribute 'merge_page_text'",
     "output_type": "error",
     "traceback": [
      "\u001b[0;31m---------------------------------------------------------------------------\u001b[0m",
      "\u001b[0;31mAttributeError\u001b[0m                            Traceback (most recent call last)",
      "\u001b[0;32m/tmp/ipykernel_12234/4014140207.py\u001b[0m in \u001b[0;36m<module>\u001b[0;34m\u001b[0m\n\u001b[1;32m     10\u001b[0m \u001b[0mpdf_writer\u001b[0m \u001b[0;34m=\u001b[0m \u001b[0mPyPDF2\u001b[0m\u001b[0;34m.\u001b[0m\u001b[0mPdfWriter\u001b[0m\u001b[0;34m(\u001b[0m\u001b[0;34m)\u001b[0m\u001b[0;34m\u001b[0m\u001b[0;34m\u001b[0m\u001b[0m\n\u001b[1;32m     11\u001b[0m \u001b[0mnew_page\u001b[0m \u001b[0;34m=\u001b[0m \u001b[0mpdf_writer\u001b[0m\u001b[0;34m.\u001b[0m\u001b[0madd_blank_page\u001b[0m\u001b[0;34m(\u001b[0m\u001b[0mwidth\u001b[0m\u001b[0;34m=\u001b[0m\u001b[0;36m400\u001b[0m\u001b[0;34m,\u001b[0m \u001b[0mheight\u001b[0m\u001b[0;34m=\u001b[0m\u001b[0;36m600\u001b[0m\u001b[0;34m)\u001b[0m\u001b[0;34m\u001b[0m\u001b[0;34m\u001b[0m\u001b[0m\n\u001b[0;32m---> 12\u001b[0;31m \u001b[0mnew_page\u001b[0m\u001b[0;34m.\u001b[0m\u001b[0mmerge_page_text\u001b[0m\u001b[0;34m(\u001b[0m\u001b[0;34m\"Hello from PyPDF2!\"\u001b[0m\u001b[0;34m)\u001b[0m\u001b[0;34m\u001b[0m\u001b[0;34m\u001b[0m\u001b[0m\n\u001b[0m\u001b[1;32m     13\u001b[0m \u001b[0;32mwith\u001b[0m \u001b[0mopen\u001b[0m\u001b[0;34m(\u001b[0m\u001b[0;34m\"new_document.pdf\"\u001b[0m\u001b[0;34m,\u001b[0m \u001b[0;34m\"wb\"\u001b[0m\u001b[0;34m)\u001b[0m \u001b[0;32mas\u001b[0m \u001b[0mnew_pdf_file\u001b[0m\u001b[0;34m:\u001b[0m\u001b[0;34m\u001b[0m\u001b[0;34m\u001b[0m\u001b[0m\n\u001b[1;32m     14\u001b[0m     \u001b[0mpdf_writer\u001b[0m\u001b[0;34m.\u001b[0m\u001b[0mwrite\u001b[0m\u001b[0;34m(\u001b[0m\u001b[0mnew_pdf_file\u001b[0m\u001b[0;34m)\u001b[0m\u001b[0;34m\u001b[0m\u001b[0;34m\u001b[0m\u001b[0m\n",
      "\u001b[0;31mAttributeError\u001b[0m: 'PageObject' object has no attribute 'merge_page_text'"
     ]
    }
   ],
   "source": [
    "import PyPDF2\n",
    "\n",
    "# Reading PDF\n",
    "with open(\"practice.pdf\", \"rb\") as pdf_file:\n",
    "    pdf_reader = PyPDF2.PdfReader(pdf_file)\n",
    "    num_pages = len(pdf_reader.pages)\n",
    "    first_page_text = pdf_reader.pages[0].extract_text()\n",
    "\n",
    "# Writing PDF\n",
    "pdf_writer = PyPDF2.PdfWriter()\n",
    "new_page = pdf_writer.add_blank_page(width=400, height=600)\n",
    "new_page.merge_page_text(\"Hello from PyPDF2!\")\n",
    "with open(\"new_document.pdf\", \"wb\") as new_pdf_file:\n",
    "    pdf_writer.write(new_pdf_file)\n",
    "\n",
    "# Merging PDFs\n",
    "# pdf1 = open(\"document1.pdf\", \"rb\")\n",
    "# pdf2 = open(\"document2.pdf\", \"rb\")\n",
    "# pdf_reader1 = PyPDF2.PdfReader(pdf1)\n",
    "# pdf_reader2 = PyPDF2.PdfReader(pdf2)\n",
    "# pdf_writer = PyPDF2.PdfWriter()\n",
    "# for page in pdf_reader1.pages:\n",
    "#     pdf_writer.add_page(page)\n",
    "# for page in pdf_reader2.pages:\n",
    "#     pdf_writer.add_page(page)\n",
    "# with open(\"merged_document.pdf\", \"wb\") as merged_pdf:\n",
    "#     pdf_writer.write(merged_pdf)\n",
    "# pdf1.close()\n",
    "# pdf2.close()\n"
   ]
  }
 ],
 "metadata": {
  "kernelspec": {
   "display_name": "Python 3",
   "language": "python",
   "name": "python3"
  },
  "language_info": {
   "codemirror_mode": {
    "name": "ipython",
    "version": 3
   },
   "file_extension": ".py",
   "mimetype": "text/x-python",
   "name": "python",
   "nbconvert_exporter": "python",
   "pygments_lexer": "ipython3",
   "version": "3.10.12"
  },
  "orig_nbformat": 4
 },
 "nbformat": 4,
 "nbformat_minor": 2
}
