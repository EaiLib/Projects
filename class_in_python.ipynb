{
 "cells": [
  {
   "cell_type": "code",
   "execution_count": null,
   "metadata": {},
   "outputs": [],
   "source": [
    "class Student:\n",
    "    count = 0\n",
    "    def __init__(self, name, age, course) -> None:\n",
    "        self.name = name\n",
    "        self.age = age\n",
    "        self.course = course\n",
    "        Student.count += 1\n",
    "\n",
    "    def display_count(self):\n",
    "        print(\"There are %d students\" % Student.count)\n",
    "\n",
    "    def display_details(self):\n",
    "        print(\"Name:\", self.name, \". Age:\", self.age, \"Course:\", self.course)"
   ]
  },
  {
   "cell_type": "code",
   "execution_count": 1,
   "metadata": {},
   "outputs": [
    {
     "name": "stdout",
     "output_type": "stream",
     "text": [
      "There are 5 students\n",
      "Name: Bob . Age: 22 Course: Physics\n",
      "There are 5 students\n",
      "Name: David . Age: 19 Course: Chemistry\n",
      "There are 5 students\n"
     ]
    }
   ],
   "source": [
    "class Student:\n",
    "    \"\"\"\n",
    "    A class representing a student.\n",
    "\n",
    "    Attributes:\n",
    "        name (str): The name of the student.\n",
    "        age (int): The age of the student.\n",
    "        course (str): The course in which the student is enrolled.\n",
    "\n",
    "    Class Attributes:\n",
    "        count (int): The total count of students.\n",
    "    \"\"\"\n",
    "\n",
    "    count = 0\n",
    "\n",
    "    def __init__(self, name: str, age: int, course: str) -> None:\n",
    "        \"\"\"\n",
    "        Initializes a new Student instance.\n",
    "\n",
    "        Args:\n",
    "            name (str): The name of the student.\n",
    "            age (int): The age of the student.\n",
    "            course (str): The course in which the student is enrolled.\n",
    "        \"\"\"\n",
    "        self.name = name\n",
    "        self.age = age\n",
    "        self.course = course\n",
    "        Student.count += 1\n",
    "\n",
    "    def display_count(self) -> None:\n",
    "        \"\"\"\n",
    "        Display the total count of students.\n",
    "        \"\"\"\n",
    "        print(\"There are %d students\" % Student.count)\n",
    "\n",
    "    def display_details(self) -> None:\n",
    "        \"\"\"\n",
    "        Display the details of the student.\n",
    "        \"\"\"\n",
    "        print(\"Name:\", self.name, \". Age:\", self.age, \"Course:\", self.course)\n",
    "\n",
    "\n",
    "def main() -> None:\n",
    "    # Creating 5 student instances\n",
    "    student1 = Student(\"Alice\", 20, \"Computer Science\")\n",
    "    student2 = Student(\"Bob\", 22, \"Physics\")\n",
    "    student3 = Student(\"Charlie\", 21, \"Mathematics\")\n",
    "    student4 = Student(\"David\", 19, \"Chemistry\")\n",
    "    student5 = Student(\"Eve\", 23, \"Biology\")\n",
    "\n",
    "    # Calling display_count and display_details functions\n",
    "    student1.display_count()\n",
    "    student2.display_details()\n",
    "    student3.display_count()\n",
    "    student4.display_details()\n",
    "    student5.display_count()\n",
    "\n",
    "\n",
    "if __name__ == \"__main__\":\n",
    "    main()\n"
   ]
  }
 ],
 "metadata": {
  "kernelspec": {
   "display_name": "Python 3",
   "language": "python",
   "name": "python3"
  },
  "language_info": {
   "codemirror_mode": {
    "name": "ipython",
    "version": 3
   },
   "file_extension": ".py",
   "mimetype": "text/x-python",
   "name": "python",
   "nbconvert_exporter": "python",
   "pygments_lexer": "ipython3",
   "version": "3.10.12"
  },
  "orig_nbformat": 4
 },
 "nbformat": 4,
 "nbformat_minor": 2
}
