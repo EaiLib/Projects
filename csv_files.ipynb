{
 "cells": [
  {
   "cell_type": "code",
   "execution_count": 11,
   "metadata": {},
   "outputs": [
    {
     "data": {
      "text/plain": [
       "array([[0.73, 0.81, 0.37, 0.87],\n",
       "       [0.28, 0.8 , 0.06, 0.06],\n",
       "       [0.11, 0.27, 0.58, 0.02],\n",
       "       [0.97, 0.38, 0.7 , 0.63]])"
      ]
     },
     "execution_count": 11,
     "metadata": {},
     "output_type": "execute_result"
    }
   ],
   "source": [
    "import numpy as np\n",
    "\n",
    "\n",
    "\n",
    "\n",
    "new_data = np.random.random((50,4))\n",
    "#print(new_data)\n",
    "np.savetxt(\"saved_numbers.csv\", new_data, fmt = \"%.2f\", delimiter = \",\", header = \"H1, H2, H3, H4\")\n",
    "reading_csv = np.loadtxt(\"saved_numbers.csv\", delimiter = \",\")\n",
    "reading_csv[:4,:]"
   ]
  }
 ],
 "metadata": {
  "kernelspec": {
   "display_name": "Python 3",
   "language": "python",
   "name": "python3"
  },
  "language_info": {
   "codemirror_mode": {
    "name": "ipython",
    "version": 3
   },
   "file_extension": ".py",
   "mimetype": "text/x-python",
   "name": "python",
   "nbconvert_exporter": "python",
   "pygments_lexer": "ipython3",
   "version": "3.10.12"
  },
  "orig_nbformat": 4
 },
 "nbformat": 4,
 "nbformat_minor": 2
}
