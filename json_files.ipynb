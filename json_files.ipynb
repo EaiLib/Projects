{
 "cells": [
  {
   "cell_type": "code",
   "execution_count": 1,
   "metadata": {},
   "outputs": [],
   "source": [
    "import json\n",
    "\n",
    "hospital = {\n",
    "\"hospital\": \"Medicine Gates\",\n",
    "\"objectives\": \"Save and increase life\",\n",
    "\"departments\": {\n",
    "\"dep_1\": \"maternity department\",\n",
    "\"dep_2\": \"coronary department\",\n",
    "\"dep_3\": \"oncology department\"\n",
    "},\n",
    "\"floors\": [\n",
    "\"floor 1\",\n",
    "\"floor 2\",\n",
    "\"floor 3\"\n",
    "],\n",
    "\"rooms\": (1, 2, 3, 4, 5, 6, 7, 8, 9, 10)\n",
    "}\n",
    "\n",
    "json.dump(hospital, open(\"hospital.json\", \"w\"))"
   ]
  },
  {
   "cell_type": "code",
   "execution_count": 2,
   "metadata": {},
   "outputs": [],
   "source": [
    "hospital_data = json.load(open(\"hospital.json\", \"r\"))"
   ]
  },
  {
   "cell_type": "code",
   "execution_count": 4,
   "metadata": {},
   "outputs": [
    {
     "data": {
      "text/plain": [
       "{'hospital': 'Medicine Gates',\n",
       " 'objectives': 'Save and increase life',\n",
       " 'departments': {'dep_1': 'maternity department',\n",
       "  'dep_2': 'coronary department',\n",
       "  'dep_3': 'oncology department'},\n",
       " 'floors': ['floor 1', 'floor 2', 'floor 3'],\n",
       " 'rooms': [1, 2, 3, 4, 5, 6, 7, 8, 9, 10]}"
      ]
     },
     "execution_count": 4,
     "metadata": {},
     "output_type": "execute_result"
    }
   ],
   "source": [
    "hospital_data"
   ]
  }
 ],
 "metadata": {
  "kernelspec": {
   "display_name": "Python 3",
   "language": "python",
   "name": "python3"
  },
  "language_info": {
   "codemirror_mode": {
    "name": "ipython",
    "version": 3
   },
   "file_extension": ".py",
   "mimetype": "text/x-python",
   "name": "python",
   "nbconvert_exporter": "python",
   "pygments_lexer": "ipython3",
   "version": "3.10.12"
  },
  "orig_nbformat": 4
 },
 "nbformat": 4,
 "nbformat_minor": 2
}
